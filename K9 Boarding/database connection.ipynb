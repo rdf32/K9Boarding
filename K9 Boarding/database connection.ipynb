{
 "cells": [
  {
   "cell_type": "code",
   "execution_count": 1,
   "metadata": {},
   "outputs": [],
   "source": [
    "import sqlite3"
   ]
  },
  {
   "cell_type": "code",
   "execution_count": 2,
   "metadata": {},
   "outputs": [],
   "source": [
    "def create_connection(db_file):\n",
    "    \"\"\" create a database connection to the SQLite database\n",
    "        specified by db_file\n",
    "    :param db_file: database file\n",
    "    :return: Connection object or None\n",
    "    \"\"\"\n",
    "    conn = None\n",
    "    try:\n",
    "        conn = sqlite3.connect(db_file)\n",
    "    except Error as e:\n",
    "        print(e)\n",
    "\n",
    "    return conn\n"
   ]
  },
  {
   "cell_type": "code",
   "execution_count": 3,
   "metadata": {},
   "outputs": [],
   "source": [
    "def create_user(conn, user):\n",
    "    \"\"\"\n",
    "    Create a new user into the User table\n",
    "    :param conn:\n",
    "    :param user:\n",
    "    :return: user id\n",
    "    \"\"\"\n",
    "    sql = ''' INSERT INTO user(email,password,first_name,last_name,phone,role)\n",
    "              VALUES(?,?,?,?,?,?) '''\n",
    "    cur = conn.cursor()\n",
    "    cur.execute(sql, user)\n",
    "    conn.commit()\n",
    "    return cur.lastrowid\n",
    "\n",
    "def create_pet(conn, user_id, pet):\n",
    "    \"\"\"\n",
    "    Create a new user into the User table\n",
    "    :param conn:\n",
    "    :param user:\n",
    "    :return: user id\n",
    "    \"\"\"\n",
    "    sql = ''' INSERT INTO pet(name, user_id)\n",
    "              VALUES(?,?)'''\n",
    "    cur = conn.cursor()\n",
    "    cur.execute(sql, pet)\n",
    "    conn.commit()\n",
    "    return cur.lastrowid\n",
    "\n",
    "def create_appointment(conn, pet_id, appt):\n",
    "    \"\"\"\n",
    "    Create a new user into the User table\n",
    "    :param conn:\n",
    "    :param user:\n",
    "    :return: user id\n",
    "    \"\"\"\n",
    "    sql = ''' INSERT INTO appointment(type,date,pet_id)\n",
    "              VALUES(?,?,?) '''\n",
    "    cur = conn.cursor()\n",
    "    cur.execute(sql, appt)\n",
    "    conn.commit()\n",
    "    return cur.lastrowid"
   ]
  },
  {
   "cell_type": "code",
   "execution_count": 6,
   "metadata": {},
   "outputs": [
    {
     "ename": "IntegrityError",
     "evalue": "UNIQUE constraint failed: user.email",
     "output_type": "error",
     "traceback": [
      "\u001b[1;31m---------------------------------------------------------------------------\u001b[0m",
      "\u001b[1;31mIntegrityError\u001b[0m                            Traceback (most recent call last)",
      "\u001b[1;32m<ipython-input-6-0a00a92321aa>\u001b[0m in \u001b[0;36m<module>\u001b[1;34m\u001b[0m\n\u001b[0;32m     10\u001b[0m     \u001b[1;31m# create a new user\u001b[0m\u001b[1;33m\u001b[0m\u001b[1;33m\u001b[0m\u001b[1;33m\u001b[0m\u001b[0m\n\u001b[0;32m     11\u001b[0m     \u001b[0muser\u001b[0m \u001b[1;33m=\u001b[0m \u001b[1;33m(\u001b[0m\u001b[1;34m'rylie.fleckenstein@trojans.dsu.edu'\u001b[0m\u001b[1;33m,\u001b[0m \u001b[0mpassword\u001b[0m\u001b[1;33m,\u001b[0m \u001b[1;34m'Rylie'\u001b[0m\u001b[1;33m,\u001b[0m \u001b[1;34m'Fleckenstein'\u001b[0m\u001b[1;33m,\u001b[0m \u001b[1;34m'605-216-1110'\u001b[0m\u001b[1;33m,\u001b[0m \u001b[1;34m'admin'\u001b[0m\u001b[1;33m)\u001b[0m\u001b[1;33m;\u001b[0m\u001b[1;33m\u001b[0m\u001b[1;33m\u001b[0m\u001b[0m\n\u001b[1;32m---> 12\u001b[1;33m     \u001b[0muser_id\u001b[0m \u001b[1;33m=\u001b[0m \u001b[0mcreate_user\u001b[0m\u001b[1;33m(\u001b[0m\u001b[0mconn\u001b[0m\u001b[1;33m,\u001b[0m \u001b[0muser\u001b[0m\u001b[1;33m)\u001b[0m\u001b[1;33m;\u001b[0m\u001b[1;33m\u001b[0m\u001b[1;33m\u001b[0m\u001b[0m\n\u001b[0m\u001b[0;32m     13\u001b[0m     \u001b[1;31m# adding pet\u001b[0m\u001b[1;33m\u001b[0m\u001b[1;33m\u001b[0m\u001b[1;33m\u001b[0m\u001b[0m\n\u001b[0;32m     14\u001b[0m     \u001b[0mpet\u001b[0m \u001b[1;33m=\u001b[0m \u001b[1;33m(\u001b[0m\u001b[1;34m'Roo'\u001b[0m\u001b[1;33m,\u001b[0m \u001b[0muser_id\u001b[0m\u001b[1;33m)\u001b[0m\u001b[1;33m;\u001b[0m\u001b[1;33m\u001b[0m\u001b[1;33m\u001b[0m\u001b[0m\n",
      "\u001b[1;32m<ipython-input-5-11b120a2ae5c>\u001b[0m in \u001b[0;36mcreate_user\u001b[1;34m(conn, user)\u001b[0m\n\u001b[0;32m      9\u001b[0m               VALUES(?,?,?,?,?,?) '''\n\u001b[0;32m     10\u001b[0m     \u001b[0mcur\u001b[0m \u001b[1;33m=\u001b[0m \u001b[0mconn\u001b[0m\u001b[1;33m.\u001b[0m\u001b[0mcursor\u001b[0m\u001b[1;33m(\u001b[0m\u001b[1;33m)\u001b[0m\u001b[1;33m\u001b[0m\u001b[1;33m\u001b[0m\u001b[0m\n\u001b[1;32m---> 11\u001b[1;33m     \u001b[0mcur\u001b[0m\u001b[1;33m.\u001b[0m\u001b[0mexecute\u001b[0m\u001b[1;33m(\u001b[0m\u001b[0msql\u001b[0m\u001b[1;33m,\u001b[0m \u001b[0muser\u001b[0m\u001b[1;33m)\u001b[0m\u001b[1;33m\u001b[0m\u001b[1;33m\u001b[0m\u001b[0m\n\u001b[0m\u001b[0;32m     12\u001b[0m     \u001b[0mconn\u001b[0m\u001b[1;33m.\u001b[0m\u001b[0mcommit\u001b[0m\u001b[1;33m(\u001b[0m\u001b[1;33m)\u001b[0m\u001b[1;33m\u001b[0m\u001b[1;33m\u001b[0m\u001b[0m\n\u001b[0;32m     13\u001b[0m     \u001b[1;32mreturn\u001b[0m \u001b[0mcur\u001b[0m\u001b[1;33m.\u001b[0m\u001b[0mlastrowid\u001b[0m\u001b[1;33m\u001b[0m\u001b[1;33m\u001b[0m\u001b[0m\n",
      "\u001b[1;31mIntegrityError\u001b[0m: UNIQUE constraint failed: user.email"
     ]
    }
   ],
   "source": [
    "# for creating admin accounts\n",
    "database = r\"C:\\Users\\dylle\\Desktop\\Full Stack Dev\\K9 Boarding\\website\\database.db\"\n",
    "from werkzeug.security import generate_password_hash\n",
    "\n",
    "password = generate_password_hash('Kr3253#*#', method='sha256')\n",
    "\n",
    "# create a database connection\n",
    "conn = create_connection(database)\n",
    "with conn:\n",
    "    # create a new user\n",
    "    user = ('rylie.fleckenstein@trojans.dsu.edu', password, 'Rylie', 'Fleckenstein', '605-216-1110', 'admin'); \n",
    "    user_id = create_user(conn, user);\n",
    "    # adding pet\n",
    "    pet = ('Roo', user_id);\n",
    "    pet_id = create_pet(conn, user_id, pet);\n",
    "    # adding appointment\n",
    "    appt = (\"boarding\", '5/27/21', pet_id)\n",
    "    appt_id = create_appointment(conn, pet_id, appt)"
   ]
  },
  {
   "cell_type": "code",
   "execution_count": 4,
   "metadata": {},
   "outputs": [
    {
     "name": "stdout",
     "output_type": "stream",
     "text": [
      "(1, 'testuser@gmail.com', 'sha256$6OUEHaoD$6e81ecb74e8371551f504aa99227cfb2ef5c94f427dc549c441fcd9eb124982d', 'test', None, None, 'client')\n",
      "(3, 'kate.campbell@wolves.northern.edu', 'sha256$U2yGA9S9$9869bd506655bb339da72aae956f422a72470703476020c4afb6188f8b4aa42f', 'Kate', None, None, 'client')\n",
      "(4, 'rylie.fleckenstein@trojans.dsu.edu', 'sha256$N0NWuu8t$2defea2e08d186cb7d98bb616d78ab79740924f03e2a620df9e2d8a04507137e', 'Rylie', 'Fleckenstein', '605-216-1110', 'admin')\n",
      "(5, 'rylie@hotmail.com', 'sha256$p70KjNq8$9e347f745653c4afc0b0a5cebe1f1e8c3af79aabfdc8a84b6756be9fd52f11de', 'Rylie', None, None, 'client')\n",
      "(6, 'hunting_53@hotmail.com', 'sha256$RnJqBY7L$4adcbac64c2f3c0e121d5dd39f2a7dad830088b84bf682035ebcffdeebd08587', 'leo', None, None, 'client')\n",
      "(7, 'dan@hotmail.com', 'sha256$diyzZShN$5198f79655f7ad4cbe8f87edc10af14e4087c2eaf1b5106c39c1449278818953', 'dan', None, None, 'client')\n"
     ]
    }
   ],
   "source": [
    "# querying data from the database\n",
    "# Create a SQL connection to our SQLite database\n",
    "con = sqlite3.connect(\"website/database.db\")\n",
    "\n",
    "cur = con.cursor()\n",
    "\n",
    "# The result of a \"cursor.execute\" can be iterated over by row\n",
    "for row in cur.execute('SELECT * FROM User;'):\n",
    "    print(row)\n",
    "\n",
    "# Be sure to close the connection\n",
    "cur.close()\n",
    "con.close()"
   ]
  },
  {
   "cell_type": "code",
   "execution_count": 4,
   "metadata": {},
   "outputs": [
    {
     "name": "stdout",
     "output_type": "stream",
     "text": [
      "(1, 'Roo', 4)\n"
     ]
    }
   ],
   "source": [
    "# querying data from the database\n",
    "# Create a SQL connection to our SQLite database\n",
    "con = sqlite3.connect(\"website/database.db\")\n",
    "\n",
    "cur = con.cursor()\n",
    "\n",
    "# The result of a \"cursor.execute\" can be iterated over by row\n",
    "for row in cur.execute('SELECT * FROM Pet;'):\n",
    "    print(row)\n",
    "\n",
    "# Be sure to close the connection\n",
    "cur.close()\n",
    "con.close()"
   ]
  },
  {
   "cell_type": "markdown",
   "metadata": {},
   "source": [
    "Date format: 'yyyy-mm-dd'"
   ]
  },
  {
   "cell_type": "code",
   "execution_count": 5,
   "metadata": {},
   "outputs": [
    {
     "name": "stdout",
     "output_type": "stream",
     "text": [
      "(1, 'boarding', '2021-05-27', 1)\n",
      "(2, 'boarding', '2021-05-27', 1)\n",
      "(3, 'boarding', '2021-05-28', 1)\n"
     ]
    }
   ],
   "source": [
    "# querying data from the database\n",
    "# Create a SQL connection to our SQLite database\n",
    "con = sqlite3.connect(\"website/database.db\")\n",
    "\n",
    "cur = con.cursor()\n",
    "appointments = []\n",
    "# The result of a \"cursor.execute\" can be iterated over by row\n",
    "for row in cur.execute(\"SELECT * FROM appointment\"):\n",
    "                       \n",
    "    print(row)\n",
    "\n",
    "# Be sure to close the connection\n",
    "cur.close()\n",
    "con.close()"
   ]
  },
  {
   "cell_type": "code",
   "execution_count": 40,
   "metadata": {},
   "outputs": [],
   "source": [
    "# Deleting users from the data base (or any kind of deletion)\n",
    "# Create a SQL connection to our SQLite database\n",
    "con = sqlite3.connect(\"website/database.db\")\n",
    "# create cursor\n",
    "cur = con.cursor()\n",
    "\n",
    "# DELETE user from database\n",
    "cur.execute(\"DELETE FROM user WHERE email == 'rylie.fleckenstein@trojans.dsu.edu';\")\n",
    "# have to commit the changes\n",
    "con.commit()\n",
    "\n",
    "# Be sure to close the connection\n",
    "cur.close()\n",
    "con.close()"
   ]
  },
  {
   "cell_type": "code",
   "execution_count": 64,
   "metadata": {},
   "outputs": [],
   "source": [
    "# Deleting users from the data base (or any kind of deletion)\n",
    "# Create a SQL connection to our SQLite database\n",
    "con = sqlite3.connect(\"website/database.db\")\n",
    "# create cursor\n",
    "cur = con.cursor()\n",
    "\n",
    "# DELETE user from database\n",
    "cur.execute(\"DELETE FROM appointment WHERE id == 2;\")\n",
    "# have to commit the changes\n",
    "con.commit()\n",
    "\n",
    "# Be sure to close the connection\n",
    "cur.close()\n",
    "con.close()"
   ]
  },
  {
   "cell_type": "code",
   "execution_count": 46,
   "metadata": {},
   "outputs": [],
   "source": [
    "# Deleting users from the data base (or any kind of deletion)\n",
    "# Create a SQL connection to our SQLite database\n",
    "con = sqlite3.connect(\"website/database.db\")\n",
    "# create cursor\n",
    "cur = con.cursor()\n",
    "\n",
    "# DELETE user from database\n",
    "cur.execute(\"DELETE FROM pet WHERE user_id == 4 AND name == 'Roo';\")\n",
    "# have to commit the changes\n",
    "con.commit()\n",
    "\n",
    "# Be sure to close the connection\n",
    "cur.close()\n",
    "con.close()"
   ]
  },
  {
   "cell_type": "code",
   "execution_count": 1,
   "metadata": {},
   "outputs": [
    {
     "data": {
      "text/plain": [
       "['Rylie', 'Fleck']"
      ]
     },
     "execution_count": 1,
     "metadata": {},
     "output_type": "execute_result"
    }
   ],
   "source": [
    "name = \"Rylie Fleck\"\n",
    "names = [x for x in name.split(\" \")]\n",
    "names"
   ]
  },
  {
   "cell_type": "code",
   "execution_count": 2,
   "metadata": {},
   "outputs": [
    {
     "data": {
      "text/plain": [
       "['Rylie']"
      ]
     },
     "execution_count": 2,
     "metadata": {},
     "output_type": "execute_result"
    }
   ],
   "source": [
    "name = \"Rylie\"\n",
    "names = [x for x in name.split(\" \")]\n",
    "names"
   ]
  },
  {
   "cell_type": "code",
   "execution_count": 10,
   "metadata": {},
   "outputs": [
    {
     "name": "stdout",
     "output_type": "stream",
     "text": [
      "('rylie.fleckenstein@trojans.dsu.edu', 'Rylie', 'Fleckenstein', 1, 'Roo')\n"
     ]
    }
   ],
   "source": [
    "# querying data from the database\n",
    "# Create a SQL connection to our SQLite database\n",
    "con = sqlite3.connect(\"website/database.db\")\n",
    "\n",
    "cur = con.cursor()\n",
    "\n",
    "# The result of a \"cursor.execute\" can be iterated over by row\n",
    "for row in cur.execute('SELECT u.email AS user_email, u.first_name AS first_name, u.last_name AS last_name, p.id AS pet_id, p.name AS pet_name FROM user AS u INNER JOIN pet as p ON u.id == p.user_id;'):\n",
    "    print(row)\n",
    "\n",
    "# Be sure to close the connection\n",
    "cur.close()\n",
    "con.close()"
   ]
  },
  {
   "cell_type": "code",
   "execution_count": 17,
   "metadata": {},
   "outputs": [
    {
     "name": "stdout",
     "output_type": "stream",
     "text": [
      "(4, 'rylie.fleckenstein@trojans.dsu.edu', 'sha256$N0NWuu8t$2defea2e08d186cb7d98bb616d78ab79740924f03e2a620df9e2d8a04507137e', 'Rylie', 'Fleckenstein', '605-216-1110', 'admin', 1, 'Roo', 4)\n"
     ]
    }
   ],
   "source": [
    "# querying data from the database\n",
    "# Create a SQL connection to our SQLite database\n",
    "con = sqlite3.connect(\"website/database.db\")\n",
    "\n",
    "cur = con.cursor()\n",
    "\n",
    "# The result of a \"cursor.execute\" can be iterated over by row\n",
    "for row in cur.execute('SELECT * FROM user AS u INNER JOIN pet AS p ON u.id == p.user_id WHERE p.name LIKE(\"roo\");'):\n",
    "    print(row)\n",
    "\n",
    "# Be sure to close the connection\n",
    "cur.close()\n",
    "con.close()"
   ]
  },
  {
   "cell_type": "code",
   "execution_count": null,
   "metadata": {},
   "outputs": [],
   "source": []
  }
 ],
 "metadata": {
  "kernelspec": {
   "display_name": "Python 3",
   "language": "python",
   "name": "python3"
  },
  "language_info": {
   "codemirror_mode": {
    "name": "ipython",
    "version": 3
   },
   "file_extension": ".py",
   "mimetype": "text/x-python",
   "name": "python",
   "nbconvert_exporter": "python",
   "pygments_lexer": "ipython3",
   "version": "3.7.7"
  },
  "varInspector": {
   "cols": {
    "lenName": 16,
    "lenType": 16,
    "lenVar": 40
   },
   "kernels_config": {
    "python": {
     "delete_cmd_postfix": "",
     "delete_cmd_prefix": "del ",
     "library": "var_list.py",
     "varRefreshCmd": "print(var_dic_list())"
    },
    "r": {
     "delete_cmd_postfix": ") ",
     "delete_cmd_prefix": "rm(",
     "library": "var_list.r",
     "varRefreshCmd": "cat(var_dic_list()) "
    }
   },
   "position": {
    "height": "144.444px",
    "left": "1764.33px",
    "right": "20px",
    "top": "120px",
    "width": "350px"
   },
   "types_to_exclude": [
    "module",
    "function",
    "builtin_function_or_method",
    "instance",
    "_Feature"
   ],
   "window_display": false
  }
 },
 "nbformat": 4,
 "nbformat_minor": 4
}
